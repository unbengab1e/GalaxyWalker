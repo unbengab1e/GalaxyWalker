{
 "cells": [
  {
   "cell_type": "code",
   "execution_count": 1,
   "metadata": {},
   "outputs": [],
   "source": [
    "from transformers.models.mllama.modeling_mllama import MllamaVisionModel\n",
    "from PIL import Image\n",
    "from transformers import AutoProcessor\n",
    "from astropy.table import Table\n",
    "from tqdm.notebook import tqdm, trange\n",
    "import os"
   ]
  },
  {
   "cell_type": "code",
   "execution_count": 2,
   "metadata": {},
   "outputs": [
    {
     "name": "stdout",
     "output_type": "stream",
     "text": [
      "(21051,) <class 'astropy.table.column.Column'>\n"
     ]
    }
   ],
   "source": [
    "# read all csv table\n",
    "csv_data = Table.read(\"/mnt/data/CVPR2025/task1_data/test_no_classification.hdf5\")\n",
    "csv_data.keys()\n",
    "print(csv_data[\"TARGETID\"].shape, type(csv_data[\"TARGETID\"]))"
   ]
  },
  {
   "cell_type": "code",
   "execution_count": 3,
   "metadata": {},
   "outputs": [
    {
     "data": {
      "application/vnd.jupyter.widget-view+json": {
       "model_id": "0f76e05529b24b61a1da1f0ec4d29af2",
       "version_major": 2,
       "version_minor": 0
      },
      "text/plain": [
       "Loading checkpoint shards:   0%|          | 0/5 [00:00<?, ?it/s]"
      ]
     },
     "metadata": {},
     "output_type": "display_data"
    }
   ],
   "source": [
    "import torch.nn as nn\n",
    "import torch\n",
    "from safetensors import safe_open\n",
    "# load a vision model\n",
    "checkpoint=\"/mnt/data/CVPR2025/task1_data/Llama-3.2-11B-Vision-Instruct\"\n",
    "model = MllamaVisionModel.from_pretrained(checkpoint)\n",
    "processor = AutoProcessor.from_pretrained(checkpoint)\n",
    "projector = nn.Linear(7680, 4096, bias=True)\n",
    "# state_dict = torch.load(\"/mnt/data/CVPR2025/task1_data/Llama-3.2-11B-Vision-Instruct/original/consolidated.pth\", weights_only=True)\n",
    "with safe_open(\"/mnt/data/CVPR2025/task1_data/Llama-3.2-11B-Vision-Instruct/model-00005-of-00005.safetensors\", framework=\"pt\",  device=0) as f:\n",
    "    weight = f.get_tensor(\"multi_modal_projector.weight\")\n",
    "    bias = f.get_tensor(\"multi_modal_projector.bias\")\n",
    "\n",
    "# 初始化projector的权重和偏置\n",
    "with torch.no_grad():\n",
    "    projector.weight.copy_(weight)\n",
    "    projector.bias.copy_(bias)\n",
    "\n",
    "# 将projector移到GPU并设置为评估模式\n",
    "projector = projector.cuda().eval()\n",
    "\n",
    "# 如果需要和model一样使用bf16\n",
    "projector = projector.bfloat16()"
   ]
  },
  {
   "cell_type": "code",
   "execution_count": 4,
   "metadata": {},
   "outputs": [
    {
     "data": {
      "application/vnd.jupyter.widget-view+json": {
       "model_id": "2534c5b64c444130bf5248b5edffbde5",
       "version_major": 2,
       "version_minor": 0
      },
      "text/plain": [
       "  0%|          | 0/21051 [00:00<?, ?it/s]"
      ]
     },
     "metadata": {},
     "output_type": "display_data"
    }
   ],
   "source": [
    "image_root_dir = \"/mnt/data/CVPR2025/task1_data/images/images\"\n",
    "all_image_paths = []\n",
    "for id_ in tqdm(csv_data[\"TARGETID\"]):\n",
    "    img_path = os.path.join(image_root_dir, \"{}.png\".format(id_))\n",
    "    all_image_paths.append(img_path)\n",
    "    # inputs = processor(images=test_image, return_tensors=\"pt\")\n",
    "    # with torch.no_grad():\n",
    "    #     for k in inputs:\n",
    "    #         inputs[k] = inputs[k].cuda()\n",
    "    #     output = model(**inputs)\n",
    "    #     all_features.append(output[0].cpu().squeeze(0).squeeze(1))"
   ]
  },
  {
   "cell_type": "code",
   "execution_count": 16,
   "metadata": {},
   "outputs": [
    {
     "name": "stdout",
     "output_type": "stream",
     "text": [
      "torch.Size([1, 8, 4, 1601, 7680])\n"
     ]
    }
   ],
   "source": [
    "import torch\n",
    "# test image inputs\n",
    "test_image_paths = all_image_paths[:8]\n",
    "test_images = [Image.open(x) for x in test_image_paths]\n",
    "inputs = processor(images=test_images, return_tensors=\"pt\")\n",
    "with torch.no_grad():\n",
    "    for k in inputs:\n",
    "        inputs[k] = inputs[k].cuda()\n",
    "    output = model(**inputs)\n",
    "print(output[0].shape)"
   ]
  },
  {
   "cell_type": "code",
   "execution_count": 9,
   "metadata": {},
   "outputs": [
    {
     "data": {
      "text/plain": [
       "device(type='cuda', index=0)"
      ]
     },
     "execution_count": 9,
     "metadata": {},
     "output_type": "execute_result"
    }
   ],
   "source": [
    "output[0].device"
   ]
  },
  {
   "cell_type": "code",
   "execution_count": 20,
   "metadata": {},
   "outputs": [
    {
     "name": "stderr",
     "output_type": "stream",
     "text": [
      " 12%|█▏        | 324/2632 [12:59<2:50:52,  4.44s/it]"
     ]
    },
    {
     "ename": "",
     "evalue": "",
     "output_type": "error",
     "traceback": [
      "\u001b[1;31mThe Kernel crashed while executing code in the current cell or a previous cell. \n",
      "\u001b[1;31mPlease review the code in the cell(s) to identify a possible cause of the failure. \n",
      "\u001b[1;31mClick <a href='https://aka.ms/vscodeJupyterKernelCrash'>here</a> for more info. \n",
      "\u001b[1;31mView Jupyter <a href='command:jupyter.viewOutput'>log</a> for further details."
     ]
    },
    {
     "ename": "",
     "evalue": "",
     "output_type": "error",
     "traceback": [
      "\u001b[1;31mThe Kernel crashed while executing code in the current cell or a previous cell. \n",
      "\u001b[1;31mPlease review the code in the cell(s) to identify a possible cause of the failure. \n",
      "\u001b[1;31mClick <a href='https://aka.ms/vscodeJupyterKernelCrash'>here</a> for more info. \n",
      "\u001b[1;31mView Jupyter <a href='command:jupyter.viewOutput'>log</a> for further details."
     ]
    }
   ],
   "source": [
    "import numpy as np\n",
    "# 初始化存储所有特征的列表\n",
    "all_image_features = []\n",
    "\n",
    "# 设置批次大小\n",
    "batch_size = 8\n",
    "\n",
    "# 将模型转换为 bf16\n",
    "model = model.bfloat16()\n",
    "\n",
    "# 计算需要处理的批次数\n",
    "num_batches = len(all_image_paths) // batch_size\n",
    "if len(all_image_paths) % batch_size != 0:\n",
    "    num_batches += 1\n",
    "\n",
    "# 使用tqdm显示处理进度\n",
    "for i in tqdm(range(num_batches)):\n",
    "    # 获取当前批次的图像路径\n",
    "    start_idx = i * batch_size\n",
    "    end_idx = min((i + 1) * batch_size, len(all_image_paths))\n",
    "    batch_image_paths = all_image_paths[start_idx:end_idx]\n",
    "    \n",
    "    # 读取并处理图像\n",
    "    batch_images = [Image.open(x) for x in batch_image_paths]\n",
    "    inputs = processor(images=batch_images, return_tensors=\"pt\")\n",
    "    \n",
    "    # 将输入移到GPU\n",
    "    with torch.no_grad():\n",
    "        for k in inputs:\n",
    "            inputs[k] = inputs[k].cuda()\n",
    "        \n",
    "        # 模型推理\n",
    "        output = model(**inputs)\n",
    "        \n",
    "        # 将输出移到CPU并转换为numpy数组\n",
    "        features = output[0].cpu().float().squeeze(0).numpy()\n",
    "        all_image_features.append(features)\n",
    "\n",
    "# 合并所有特征\n",
    "all_image_features = np.concatenate(all_image_features, axis=1)\n",
    "\n",
    "print(\"处理完成!\")\n",
    "print(f\"特征形状: {all_image_features.shape}\")"
   ]
  },
  {
   "cell_type": "code",
   "execution_count": 6,
   "metadata": {},
   "outputs": [
    {
     "name": "stderr",
     "output_type": "stream",
     "text": [
      "  0%|          | 96/21051 [00:22<1:20:00,  4.36it/s]"
     ]
    },
    {
     "name": "stdout",
     "output_type": "stream",
     "text": [
      "Saved features batch 0 to /mnt/data/CVPR2025/task1_data/images_features/features_batch_0.pt\n"
     ]
    },
    {
     "name": "stderr",
     "output_type": "stream",
     "text": [
      "  1%|          | 192/21051 [00:49<1:25:59,  4.04it/s]"
     ]
    },
    {
     "name": "stdout",
     "output_type": "stream",
     "text": [
      "Saved features batch 1 to /mnt/data/CVPR2025/task1_data/images_features/features_batch_1.pt\n"
     ]
    },
    {
     "name": "stderr",
     "output_type": "stream",
     "text": [
      "  1%|▏         | 288/21051 [01:16<1:26:01,  4.02it/s]"
     ]
    },
    {
     "name": "stdout",
     "output_type": "stream",
     "text": [
      "Saved features batch 2 to /mnt/data/CVPR2025/task1_data/images_features/features_batch_2.pt\n"
     ]
    },
    {
     "name": "stderr",
     "output_type": "stream",
     "text": [
      "  2%|▏         | 384/21051 [01:44<1:26:04,  4.00it/s]"
     ]
    },
    {
     "name": "stdout",
     "output_type": "stream",
     "text": [
      "Saved features batch 3 to /mnt/data/CVPR2025/task1_data/images_features/features_batch_3.pt\n"
     ]
    },
    {
     "name": "stderr",
     "output_type": "stream",
     "text": [
      "  2%|▏         | 496/21051 [02:15<1:23:43,  4.09it/s]"
     ]
    },
    {
     "name": "stdout",
     "output_type": "stream",
     "text": [
      "Saved features batch 4 to /mnt/data/CVPR2025/task1_data/images_features/features_batch_4.pt\n"
     ]
    },
    {
     "name": "stderr",
     "output_type": "stream",
     "text": [
      "  3%|▎         | 592/21051 [02:43<1:25:58,  3.97it/s]"
     ]
    },
    {
     "name": "stdout",
     "output_type": "stream",
     "text": [
      "Saved features batch 5 to /mnt/data/CVPR2025/task1_data/images_features/features_batch_5.pt\n"
     ]
    },
    {
     "name": "stderr",
     "output_type": "stream",
     "text": [
      "  3%|▎         | 688/21051 [03:10<1:25:04,  3.99it/s]"
     ]
    },
    {
     "name": "stdout",
     "output_type": "stream",
     "text": [
      "Saved features batch 6 to /mnt/data/CVPR2025/task1_data/images_features/features_batch_6.pt\n"
     ]
    },
    {
     "name": "stderr",
     "output_type": "stream",
     "text": [
      "  4%|▎         | 784/21051 [03:37<1:24:40,  3.99it/s]"
     ]
    },
    {
     "name": "stdout",
     "output_type": "stream",
     "text": [
      "Saved features batch 7 to /mnt/data/CVPR2025/task1_data/images_features/features_batch_7.pt\n"
     ]
    },
    {
     "name": "stderr",
     "output_type": "stream",
     "text": [
      "  4%|▍         | 896/21051 [04:08<1:22:38,  4.06it/s]"
     ]
    },
    {
     "name": "stdout",
     "output_type": "stream",
     "text": [
      "Saved features batch 8 to /mnt/data/CVPR2025/task1_data/images_features/features_batch_8.pt\n"
     ]
    },
    {
     "name": "stderr",
     "output_type": "stream",
     "text": [
      "  5%|▍         | 992/21051 [04:36<1:24:40,  3.95it/s]"
     ]
    },
    {
     "name": "stdout",
     "output_type": "stream",
     "text": [
      "Saved features batch 9 to /mnt/data/CVPR2025/task1_data/images_features/features_batch_9.pt\n"
     ]
    },
    {
     "name": "stderr",
     "output_type": "stream",
     "text": [
      "  5%|▌         | 1088/21051 [05:04<1:23:36,  3.98it/s]"
     ]
    },
    {
     "name": "stdout",
     "output_type": "stream",
     "text": [
      "Saved features batch 10 to /mnt/data/CVPR2025/task1_data/images_features/features_batch_10.pt\n"
     ]
    },
    {
     "name": "stderr",
     "output_type": "stream",
     "text": [
      "  6%|▌         | 1184/21051 [05:31<1:23:12,  3.98it/s]"
     ]
    },
    {
     "name": "stdout",
     "output_type": "stream",
     "text": [
      "Saved features batch 11 to /mnt/data/CVPR2025/task1_data/images_features/features_batch_11.pt\n"
     ]
    },
    {
     "name": "stderr",
     "output_type": "stream",
     "text": [
      "  6%|▌         | 1296/21051 [06:02<1:21:02,  4.06it/s]"
     ]
    },
    {
     "name": "stdout",
     "output_type": "stream",
     "text": [
      "Saved features batch 12 to /mnt/data/CVPR2025/task1_data/images_features/features_batch_12.pt\n"
     ]
    },
    {
     "name": "stderr",
     "output_type": "stream",
     "text": [
      "  7%|▋         | 1392/21051 [06:30<1:22:59,  3.95it/s]"
     ]
    },
    {
     "name": "stdout",
     "output_type": "stream",
     "text": [
      "Saved features batch 13 to /mnt/data/CVPR2025/task1_data/images_features/features_batch_13.pt\n"
     ]
    },
    {
     "name": "stderr",
     "output_type": "stream",
     "text": [
      "  7%|▋         | 1488/21051 [06:57<1:22:02,  3.97it/s]"
     ]
    },
    {
     "name": "stdout",
     "output_type": "stream",
     "text": [
      "Saved features batch 14 to /mnt/data/CVPR2025/task1_data/images_features/features_batch_14.pt\n"
     ]
    },
    {
     "name": "stderr",
     "output_type": "stream",
     "text": [
      "  8%|▊         | 1584/21051 [07:24<1:21:38,  3.97it/s]"
     ]
    },
    {
     "name": "stdout",
     "output_type": "stream",
     "text": [
      "Saved features batch 15 to /mnt/data/CVPR2025/task1_data/images_features/features_batch_15.pt\n"
     ]
    },
    {
     "name": "stderr",
     "output_type": "stream",
     "text": [
      "  8%|▊         | 1696/21051 [07:55<1:19:33,  4.05it/s]"
     ]
    },
    {
     "name": "stdout",
     "output_type": "stream",
     "text": [
      "Saved features batch 16 to /mnt/data/CVPR2025/task1_data/images_features/features_batch_16.pt\n"
     ]
    },
    {
     "name": "stderr",
     "output_type": "stream",
     "text": [
      "  9%|▊         | 1792/21051 [08:23<1:21:26,  3.94it/s]"
     ]
    },
    {
     "name": "stdout",
     "output_type": "stream",
     "text": [
      "Saved features batch 17 to /mnt/data/CVPR2025/task1_data/images_features/features_batch_17.pt\n"
     ]
    },
    {
     "name": "stderr",
     "output_type": "stream",
     "text": [
      "  9%|▉         | 1888/21051 [08:51<1:20:27,  3.97it/s]"
     ]
    },
    {
     "name": "stdout",
     "output_type": "stream",
     "text": [
      "Saved features batch 18 to /mnt/data/CVPR2025/task1_data/images_features/features_batch_18.pt\n"
     ]
    },
    {
     "name": "stderr",
     "output_type": "stream",
     "text": [
      "  9%|▉         | 1984/21051 [09:18<1:19:54,  3.98it/s]"
     ]
    },
    {
     "name": "stdout",
     "output_type": "stream",
     "text": [
      "Saved features batch 19 to /mnt/data/CVPR2025/task1_data/images_features/features_batch_19.pt\n"
     ]
    },
    {
     "name": "stderr",
     "output_type": "stream",
     "text": [
      " 10%|▉         | 2096/21051 [09:49<1:17:39,  4.07it/s]"
     ]
    },
    {
     "name": "stdout",
     "output_type": "stream",
     "text": [
      "Saved features batch 20 to /mnt/data/CVPR2025/task1_data/images_features/features_batch_20.pt\n"
     ]
    },
    {
     "name": "stderr",
     "output_type": "stream",
     "text": [
      " 10%|█         | 2192/21051 [10:17<1:19:23,  3.96it/s]"
     ]
    },
    {
     "name": "stdout",
     "output_type": "stream",
     "text": [
      "Saved features batch 21 to /mnt/data/CVPR2025/task1_data/images_features/features_batch_21.pt\n"
     ]
    },
    {
     "name": "stderr",
     "output_type": "stream",
     "text": [
      " 11%|█         | 2288/21051 [10:44<1:18:20,  3.99it/s]"
     ]
    },
    {
     "name": "stdout",
     "output_type": "stream",
     "text": [
      "Saved features batch 22 to /mnt/data/CVPR2025/task1_data/images_features/features_batch_22.pt\n"
     ]
    },
    {
     "name": "stderr",
     "output_type": "stream",
     "text": [
      " 11%|█▏        | 2384/21051 [11:11<1:17:43,  4.00it/s]"
     ]
    },
    {
     "name": "stdout",
     "output_type": "stream",
     "text": [
      "Saved features batch 23 to /mnt/data/CVPR2025/task1_data/images_features/features_batch_23.pt\n"
     ]
    },
    {
     "name": "stderr",
     "output_type": "stream",
     "text": [
      " 12%|█▏        | 2496/21051 [11:42<1:16:25,  4.05it/s]"
     ]
    },
    {
     "name": "stdout",
     "output_type": "stream",
     "text": [
      "Saved features batch 24 to /mnt/data/CVPR2025/task1_data/images_features/features_batch_24.pt\n"
     ]
    },
    {
     "name": "stderr",
     "output_type": "stream",
     "text": [
      " 12%|█▏        | 2592/21051 [12:10<1:18:20,  3.93it/s]"
     ]
    },
    {
     "name": "stdout",
     "output_type": "stream",
     "text": [
      "Saved features batch 25 to /mnt/data/CVPR2025/task1_data/images_features/features_batch_25.pt\n"
     ]
    },
    {
     "name": "stderr",
     "output_type": "stream",
     "text": [
      " 13%|█▎        | 2688/21051 [12:38<1:17:34,  3.95it/s]"
     ]
    },
    {
     "name": "stdout",
     "output_type": "stream",
     "text": [
      "Saved features batch 26 to /mnt/data/CVPR2025/task1_data/images_features/features_batch_26.pt\n"
     ]
    },
    {
     "name": "stderr",
     "output_type": "stream",
     "text": [
      " 13%|█▎        | 2784/21051 [13:05<1:16:46,  3.97it/s]"
     ]
    },
    {
     "name": "stdout",
     "output_type": "stream",
     "text": [
      "Saved features batch 27 to /mnt/data/CVPR2025/task1_data/images_features/features_batch_27.pt\n"
     ]
    },
    {
     "name": "stderr",
     "output_type": "stream",
     "text": [
      " 14%|█▍        | 2896/21051 [13:36<1:14:28,  4.06it/s]"
     ]
    },
    {
     "name": "stdout",
     "output_type": "stream",
     "text": [
      "Saved features batch 28 to /mnt/data/CVPR2025/task1_data/images_features/features_batch_28.pt\n"
     ]
    },
    {
     "name": "stderr",
     "output_type": "stream",
     "text": [
      " 14%|█▍        | 2992/21051 [14:04<1:16:10,  3.95it/s]"
     ]
    },
    {
     "name": "stdout",
     "output_type": "stream",
     "text": [
      "Saved features batch 29 to /mnt/data/CVPR2025/task1_data/images_features/features_batch_29.pt\n"
     ]
    },
    {
     "name": "stderr",
     "output_type": "stream",
     "text": [
      " 15%|█▍        | 3088/21051 [14:31<1:15:08,  3.98it/s]"
     ]
    },
    {
     "name": "stdout",
     "output_type": "stream",
     "text": [
      "Saved features batch 30 to /mnt/data/CVPR2025/task1_data/images_features/features_batch_30.pt\n"
     ]
    },
    {
     "name": "stderr",
     "output_type": "stream",
     "text": [
      " 15%|█▌        | 3184/21051 [14:59<1:14:47,  3.98it/s]"
     ]
    },
    {
     "name": "stdout",
     "output_type": "stream",
     "text": [
      "Saved features batch 31 to /mnt/data/CVPR2025/task1_data/images_features/features_batch_31.pt\n"
     ]
    },
    {
     "name": "stderr",
     "output_type": "stream",
     "text": [
      " 16%|█▌        | 3296/21051 [15:30<1:12:52,  4.06it/s]"
     ]
    },
    {
     "name": "stdout",
     "output_type": "stream",
     "text": [
      "Saved features batch 32 to /mnt/data/CVPR2025/task1_data/images_features/features_batch_32.pt\n"
     ]
    },
    {
     "name": "stderr",
     "output_type": "stream",
     "text": [
      " 16%|█▌        | 3392/21051 [15:58<1:14:44,  3.94it/s]"
     ]
    },
    {
     "name": "stdout",
     "output_type": "stream",
     "text": [
      "Saved features batch 33 to /mnt/data/CVPR2025/task1_data/images_features/features_batch_33.pt\n"
     ]
    },
    {
     "name": "stderr",
     "output_type": "stream",
     "text": [
      " 17%|█▋        | 3488/21051 [16:25<1:13:32,  3.98it/s]"
     ]
    },
    {
     "name": "stdout",
     "output_type": "stream",
     "text": [
      "Saved features batch 34 to /mnt/data/CVPR2025/task1_data/images_features/features_batch_34.pt\n"
     ]
    },
    {
     "name": "stderr",
     "output_type": "stream",
     "text": [
      " 17%|█▋        | 3584/21051 [16:52<1:13:02,  3.99it/s]"
     ]
    },
    {
     "name": "stdout",
     "output_type": "stream",
     "text": [
      "Saved features batch 35 to /mnt/data/CVPR2025/task1_data/images_features/features_batch_35.pt\n"
     ]
    },
    {
     "name": "stderr",
     "output_type": "stream",
     "text": [
      " 18%|█▊        | 3696/21051 [17:23<1:11:05,  4.07it/s]"
     ]
    },
    {
     "name": "stdout",
     "output_type": "stream",
     "text": [
      "Saved features batch 36 to /mnt/data/CVPR2025/task1_data/images_features/features_batch_36.pt\n"
     ]
    },
    {
     "name": "stderr",
     "output_type": "stream",
     "text": [
      " 18%|█▊        | 3792/21051 [17:51<1:12:49,  3.95it/s]"
     ]
    },
    {
     "name": "stdout",
     "output_type": "stream",
     "text": [
      "Saved features batch 37 to /mnt/data/CVPR2025/task1_data/images_features/features_batch_37.pt\n"
     ]
    },
    {
     "name": "stderr",
     "output_type": "stream",
     "text": [
      " 18%|█▊        | 3888/21051 [18:18<1:11:49,  3.98it/s]"
     ]
    },
    {
     "name": "stdout",
     "output_type": "stream",
     "text": [
      "Saved features batch 38 to /mnt/data/CVPR2025/task1_data/images_features/features_batch_38.pt\n"
     ]
    },
    {
     "name": "stderr",
     "output_type": "stream",
     "text": [
      " 19%|█▉        | 3984/21051 [18:45<1:11:07,  4.00it/s]"
     ]
    },
    {
     "name": "stdout",
     "output_type": "stream",
     "text": [
      "Saved features batch 39 to /mnt/data/CVPR2025/task1_data/images_features/features_batch_39.pt\n"
     ]
    },
    {
     "name": "stderr",
     "output_type": "stream",
     "text": [
      " 19%|█▉        | 4096/21051 [19:16<1:09:35,  4.06it/s]"
     ]
    },
    {
     "name": "stdout",
     "output_type": "stream",
     "text": [
      "Saved features batch 40 to /mnt/data/CVPR2025/task1_data/images_features/features_batch_40.pt\n"
     ]
    },
    {
     "name": "stderr",
     "output_type": "stream",
     "text": [
      " 20%|█▉        | 4192/21051 [19:46<1:11:59,  3.90it/s]"
     ]
    },
    {
     "name": "stdout",
     "output_type": "stream",
     "text": [
      "Saved features batch 41 to /mnt/data/CVPR2025/task1_data/images_features/features_batch_41.pt\n"
     ]
    },
    {
     "name": "stderr",
     "output_type": "stream",
     "text": [
      " 20%|██        | 4288/21051 [20:14<1:10:52,  3.94it/s]"
     ]
    },
    {
     "name": "stdout",
     "output_type": "stream",
     "text": [
      "Saved features batch 42 to /mnt/data/CVPR2025/task1_data/images_features/features_batch_42.pt\n"
     ]
    },
    {
     "name": "stderr",
     "output_type": "stream",
     "text": [
      " 21%|██        | 4384/21051 [20:42<1:10:48,  3.92it/s]"
     ]
    },
    {
     "name": "stdout",
     "output_type": "stream",
     "text": [
      "Saved features batch 43 to /mnt/data/CVPR2025/task1_data/images_features/features_batch_43.pt\n"
     ]
    },
    {
     "name": "stderr",
     "output_type": "stream",
     "text": [
      " 21%|██▏       | 4496/21051 [21:13<1:08:01,  4.06it/s]"
     ]
    },
    {
     "name": "stdout",
     "output_type": "stream",
     "text": [
      "Saved features batch 44 to /mnt/data/CVPR2025/task1_data/images_features/features_batch_44.pt\n"
     ]
    },
    {
     "name": "stderr",
     "output_type": "stream",
     "text": [
      " 22%|██▏       | 4592/21051 [21:42<1:10:07,  3.91it/s]"
     ]
    },
    {
     "name": "stdout",
     "output_type": "stream",
     "text": [
      "Saved features batch 45 to /mnt/data/CVPR2025/task1_data/images_features/features_batch_45.pt\n"
     ]
    },
    {
     "name": "stderr",
     "output_type": "stream",
     "text": [
      " 22%|██▏       | 4688/21051 [22:10<1:09:18,  3.93it/s]"
     ]
    },
    {
     "name": "stdout",
     "output_type": "stream",
     "text": [
      "Saved features batch 46 to /mnt/data/CVPR2025/task1_data/images_features/features_batch_46.pt\n"
     ]
    },
    {
     "name": "stderr",
     "output_type": "stream",
     "text": [
      " 23%|██▎       | 4784/21051 [22:39<1:09:00,  3.93it/s]"
     ]
    },
    {
     "name": "stdout",
     "output_type": "stream",
     "text": [
      "Saved features batch 47 to /mnt/data/CVPR2025/task1_data/images_features/features_batch_47.pt\n"
     ]
    },
    {
     "name": "stderr",
     "output_type": "stream",
     "text": [
      " 23%|██▎       | 4896/21051 [23:10<1:06:31,  4.05it/s]"
     ]
    },
    {
     "name": "stdout",
     "output_type": "stream",
     "text": [
      "Saved features batch 48 to /mnt/data/CVPR2025/task1_data/images_features/features_batch_48.pt\n"
     ]
    },
    {
     "name": "stderr",
     "output_type": "stream",
     "text": [
      " 24%|██▎       | 4992/21051 [23:39<1:08:25,  3.91it/s]"
     ]
    },
    {
     "name": "stdout",
     "output_type": "stream",
     "text": [
      "Saved features batch 49 to /mnt/data/CVPR2025/task1_data/images_features/features_batch_49.pt\n"
     ]
    },
    {
     "name": "stderr",
     "output_type": "stream",
     "text": [
      " 24%|██▍       | 5088/21051 [24:07<1:07:23,  3.95it/s]"
     ]
    },
    {
     "name": "stdout",
     "output_type": "stream",
     "text": [
      "Saved features batch 50 to /mnt/data/CVPR2025/task1_data/images_features/features_batch_50.pt\n"
     ]
    },
    {
     "name": "stderr",
     "output_type": "stream",
     "text": [
      " 25%|██▍       | 5184/21051 [24:35<1:07:11,  3.94it/s]"
     ]
    },
    {
     "name": "stdout",
     "output_type": "stream",
     "text": [
      "Saved features batch 51 to /mnt/data/CVPR2025/task1_data/images_features/features_batch_51.pt\n"
     ]
    },
    {
     "name": "stderr",
     "output_type": "stream",
     "text": [
      " 25%|██▌       | 5296/21051 [25:07<1:04:53,  4.05it/s]"
     ]
    },
    {
     "name": "stdout",
     "output_type": "stream",
     "text": [
      "Saved features batch 52 to /mnt/data/CVPR2025/task1_data/images_features/features_batch_52.pt\n"
     ]
    },
    {
     "name": "stderr",
     "output_type": "stream",
     "text": [
      " 26%|██▌       | 5392/21051 [25:35<1:06:02,  3.95it/s]"
     ]
    },
    {
     "name": "stdout",
     "output_type": "stream",
     "text": [
      "Saved features batch 53 to /mnt/data/CVPR2025/task1_data/images_features/features_batch_53.pt\n"
     ]
    },
    {
     "name": "stderr",
     "output_type": "stream",
     "text": [
      " 26%|██▌       | 5488/21051 [26:03<1:05:24,  3.97it/s]"
     ]
    },
    {
     "name": "stdout",
     "output_type": "stream",
     "text": [
      "Saved features batch 54 to /mnt/data/CVPR2025/task1_data/images_features/features_batch_54.pt\n"
     ]
    },
    {
     "name": "stderr",
     "output_type": "stream",
     "text": [
      " 27%|██▋       | 5584/21051 [26:30<1:04:53,  3.97it/s]"
     ]
    },
    {
     "name": "stdout",
     "output_type": "stream",
     "text": [
      "Saved features batch 55 to /mnt/data/CVPR2025/task1_data/images_features/features_batch_55.pt\n"
     ]
    },
    {
     "name": "stderr",
     "output_type": "stream",
     "text": [
      " 27%|██▋       | 5696/21051 [27:02<1:02:56,  4.07it/s]"
     ]
    },
    {
     "name": "stdout",
     "output_type": "stream",
     "text": [
      "Saved features batch 56 to /mnt/data/CVPR2025/task1_data/images_features/features_batch_56.pt\n"
     ]
    },
    {
     "name": "stderr",
     "output_type": "stream",
     "text": [
      " 28%|██▊       | 5792/21051 [27:30<1:04:35,  3.94it/s]"
     ]
    },
    {
     "name": "stdout",
     "output_type": "stream",
     "text": [
      "Saved features batch 57 to /mnt/data/CVPR2025/task1_data/images_features/features_batch_57.pt\n"
     ]
    },
    {
     "name": "stderr",
     "output_type": "stream",
     "text": [
      " 28%|██▊       | 5888/21051 [27:58<1:03:27,  3.98it/s]"
     ]
    },
    {
     "name": "stdout",
     "output_type": "stream",
     "text": [
      "Saved features batch 58 to /mnt/data/CVPR2025/task1_data/images_features/features_batch_58.pt\n"
     ]
    },
    {
     "name": "stderr",
     "output_type": "stream",
     "text": [
      " 28%|██▊       | 5984/21051 [28:25<1:02:34,  4.01it/s]"
     ]
    },
    {
     "name": "stdout",
     "output_type": "stream",
     "text": [
      "Saved features batch 59 to /mnt/data/CVPR2025/task1_data/images_features/features_batch_59.pt\n"
     ]
    },
    {
     "name": "stderr",
     "output_type": "stream",
     "text": [
      " 29%|██▉       | 6096/21051 [28:56<1:00:54,  4.09it/s]"
     ]
    },
    {
     "name": "stdout",
     "output_type": "stream",
     "text": [
      "Saved features batch 60 to /mnt/data/CVPR2025/task1_data/images_features/features_batch_60.pt\n"
     ]
    },
    {
     "name": "stderr",
     "output_type": "stream",
     "text": [
      " 29%|██▉       | 6192/21051 [29:24<1:02:20,  3.97it/s]"
     ]
    },
    {
     "name": "stdout",
     "output_type": "stream",
     "text": [
      "Saved features batch 61 to /mnt/data/CVPR2025/task1_data/images_features/features_batch_61.pt\n"
     ]
    },
    {
     "name": "stderr",
     "output_type": "stream",
     "text": [
      " 30%|██▉       | 6288/21051 [29:51<1:01:46,  3.98it/s]"
     ]
    },
    {
     "name": "stdout",
     "output_type": "stream",
     "text": [
      "Saved features batch 62 to /mnt/data/CVPR2025/task1_data/images_features/features_batch_62.pt\n"
     ]
    },
    {
     "name": "stderr",
     "output_type": "stream",
     "text": [
      " 30%|███       | 6384/21051 [30:19<1:01:07,  4.00it/s]"
     ]
    },
    {
     "name": "stdout",
     "output_type": "stream",
     "text": [
      "Saved features batch 63 to /mnt/data/CVPR2025/task1_data/images_features/features_batch_63.pt\n"
     ]
    },
    {
     "name": "stderr",
     "output_type": "stream",
     "text": [
      " 31%|███       | 6496/21051 [30:50<59:31,  4.08it/s]  "
     ]
    },
    {
     "name": "stdout",
     "output_type": "stream",
     "text": [
      "Saved features batch 64 to /mnt/data/CVPR2025/task1_data/images_features/features_batch_64.pt\n"
     ]
    },
    {
     "name": "stderr",
     "output_type": "stream",
     "text": [
      " 31%|███▏      | 6592/21051 [31:18<1:00:38,  3.97it/s]"
     ]
    },
    {
     "name": "stdout",
     "output_type": "stream",
     "text": [
      "Saved features batch 65 to /mnt/data/CVPR2025/task1_data/images_features/features_batch_65.pt\n"
     ]
    },
    {
     "name": "stderr",
     "output_type": "stream",
     "text": [
      " 32%|███▏      | 6688/21051 [31:45<1:00:07,  3.98it/s]"
     ]
    },
    {
     "name": "stdout",
     "output_type": "stream",
     "text": [
      "Saved features batch 66 to /mnt/data/CVPR2025/task1_data/images_features/features_batch_66.pt\n"
     ]
    },
    {
     "name": "stderr",
     "output_type": "stream",
     "text": [
      " 32%|███▏      | 6784/21051 [32:12<59:24,  4.00it/s]  "
     ]
    },
    {
     "name": "stdout",
     "output_type": "stream",
     "text": [
      "Saved features batch 67 to /mnt/data/CVPR2025/task1_data/images_features/features_batch_67.pt\n"
     ]
    },
    {
     "name": "stderr",
     "output_type": "stream",
     "text": [
      " 33%|███▎      | 6896/21051 [32:44<57:50,  4.08it/s]  "
     ]
    },
    {
     "name": "stdout",
     "output_type": "stream",
     "text": [
      "Saved features batch 68 to /mnt/data/CVPR2025/task1_data/images_features/features_batch_68.pt\n"
     ]
    },
    {
     "name": "stderr",
     "output_type": "stream",
     "text": [
      " 33%|███▎      | 6992/21051 [33:12<58:52,  3.98it/s]  "
     ]
    },
    {
     "name": "stdout",
     "output_type": "stream",
     "text": [
      "Saved features batch 69 to /mnt/data/CVPR2025/task1_data/images_features/features_batch_69.pt\n"
     ]
    },
    {
     "name": "stderr",
     "output_type": "stream",
     "text": [
      " 34%|███▎      | 7088/21051 [33:39<58:17,  3.99it/s]  "
     ]
    },
    {
     "name": "stdout",
     "output_type": "stream",
     "text": [
      "Saved features batch 70 to /mnt/data/CVPR2025/task1_data/images_features/features_batch_70.pt\n"
     ]
    },
    {
     "name": "stderr",
     "output_type": "stream",
     "text": [
      " 34%|███▍      | 7184/21051 [34:06<57:41,  4.01it/s]  "
     ]
    },
    {
     "name": "stdout",
     "output_type": "stream",
     "text": [
      "Saved features batch 71 to /mnt/data/CVPR2025/task1_data/images_features/features_batch_71.pt\n"
     ]
    },
    {
     "name": "stderr",
     "output_type": "stream",
     "text": [
      " 35%|███▍      | 7296/21051 [34:37<56:14,  4.08it/s]  "
     ]
    },
    {
     "name": "stdout",
     "output_type": "stream",
     "text": [
      "Saved features batch 72 to /mnt/data/CVPR2025/task1_data/images_features/features_batch_72.pt\n"
     ]
    },
    {
     "name": "stderr",
     "output_type": "stream",
     "text": [
      " 35%|███▌      | 7392/21051 [35:05<57:23,  3.97it/s]  "
     ]
    },
    {
     "name": "stdout",
     "output_type": "stream",
     "text": [
      "Saved features batch 73 to /mnt/data/CVPR2025/task1_data/images_features/features_batch_73.pt\n"
     ]
    },
    {
     "name": "stderr",
     "output_type": "stream",
     "text": [
      " 36%|███▌      | 7488/21051 [35:33<56:50,  3.98it/s]  "
     ]
    },
    {
     "name": "stdout",
     "output_type": "stream",
     "text": [
      "Saved features batch 74 to /mnt/data/CVPR2025/task1_data/images_features/features_batch_74.pt\n"
     ]
    },
    {
     "name": "stderr",
     "output_type": "stream",
     "text": [
      " 36%|███▌      | 7584/21051 [36:00<56:17,  3.99it/s]  "
     ]
    },
    {
     "name": "stdout",
     "output_type": "stream",
     "text": [
      "Saved features batch 75 to /mnt/data/CVPR2025/task1_data/images_features/features_batch_75.pt\n"
     ]
    },
    {
     "name": "stderr",
     "output_type": "stream",
     "text": [
      " 37%|███▋      | 7696/21051 [36:31<54:38,  4.07it/s]  "
     ]
    },
    {
     "name": "stdout",
     "output_type": "stream",
     "text": [
      "Saved features batch 76 to /mnt/data/CVPR2025/task1_data/images_features/features_batch_76.pt\n"
     ]
    },
    {
     "name": "stderr",
     "output_type": "stream",
     "text": [
      " 37%|███▋      | 7792/21051 [36:59<55:40,  3.97it/s]  "
     ]
    },
    {
     "name": "stdout",
     "output_type": "stream",
     "text": [
      "Saved features batch 77 to /mnt/data/CVPR2025/task1_data/images_features/features_batch_77.pt\n"
     ]
    },
    {
     "name": "stderr",
     "output_type": "stream",
     "text": [
      " 37%|███▋      | 7888/21051 [37:26<54:38,  4.01it/s]  "
     ]
    },
    {
     "name": "stdout",
     "output_type": "stream",
     "text": [
      "Saved features batch 78 to /mnt/data/CVPR2025/task1_data/images_features/features_batch_78.pt\n"
     ]
    },
    {
     "name": "stderr",
     "output_type": "stream",
     "text": [
      " 38%|███▊      | 7984/21051 [37:53<54:13,  4.02it/s]  "
     ]
    },
    {
     "name": "stdout",
     "output_type": "stream",
     "text": [
      "Saved features batch 79 to /mnt/data/CVPR2025/task1_data/images_features/features_batch_79.pt\n"
     ]
    },
    {
     "name": "stderr",
     "output_type": "stream",
     "text": [
      " 38%|███▊      | 8096/21051 [38:24<52:45,  4.09it/s]  "
     ]
    },
    {
     "name": "stdout",
     "output_type": "stream",
     "text": [
      "Saved features batch 80 to /mnt/data/CVPR2025/task1_data/images_features/features_batch_80.pt\n"
     ]
    },
    {
     "name": "stderr",
     "output_type": "stream",
     "text": [
      " 39%|███▉      | 8192/21051 [38:52<53:44,  3.99it/s]  "
     ]
    },
    {
     "name": "stdout",
     "output_type": "stream",
     "text": [
      "Saved features batch 81 to /mnt/data/CVPR2025/task1_data/images_features/features_batch_81.pt\n"
     ]
    },
    {
     "name": "stderr",
     "output_type": "stream",
     "text": [
      " 39%|███▉      | 8288/21051 [39:20<53:15,  3.99it/s]  "
     ]
    },
    {
     "name": "stdout",
     "output_type": "stream",
     "text": [
      "Saved features batch 82 to /mnt/data/CVPR2025/task1_data/images_features/features_batch_82.pt\n"
     ]
    },
    {
     "name": "stderr",
     "output_type": "stream",
     "text": [
      " 40%|███▉      | 8384/21051 [39:47<52:41,  4.01it/s]  "
     ]
    },
    {
     "name": "stdout",
     "output_type": "stream",
     "text": [
      "Saved features batch 83 to /mnt/data/CVPR2025/task1_data/images_features/features_batch_83.pt\n"
     ]
    },
    {
     "name": "stderr",
     "output_type": "stream",
     "text": [
      " 40%|████      | 8496/21051 [40:19<52:38,  3.97it/s]  "
     ]
    },
    {
     "name": "stdout",
     "output_type": "stream",
     "text": [
      "Saved features batch 84 to /mnt/data/CVPR2025/task1_data/images_features/features_batch_84.pt\n"
     ]
    },
    {
     "name": "stderr",
     "output_type": "stream",
     "text": [
      " 41%|████      | 8592/21051 [40:51<54:45,  3.79it/s]  "
     ]
    },
    {
     "name": "stdout",
     "output_type": "stream",
     "text": [
      "Saved features batch 85 to /mnt/data/CVPR2025/task1_data/images_features/features_batch_85.pt\n"
     ]
    },
    {
     "name": "stderr",
     "output_type": "stream",
     "text": [
      " 41%|████▏     | 8688/21051 [41:21<53:57,  3.82it/s]  "
     ]
    },
    {
     "name": "stdout",
     "output_type": "stream",
     "text": [
      "Saved features batch 86 to /mnt/data/CVPR2025/task1_data/images_features/features_batch_86.pt\n"
     ]
    },
    {
     "name": "stderr",
     "output_type": "stream",
     "text": [
      " 42%|████▏     | 8784/21051 [41:49<52:10,  3.92it/s]  "
     ]
    },
    {
     "name": "stdout",
     "output_type": "stream",
     "text": [
      "Saved features batch 87 to /mnt/data/CVPR2025/task1_data/images_features/features_batch_87.pt\n"
     ]
    },
    {
     "name": "stderr",
     "output_type": "stream",
     "text": [
      " 42%|████▏     | 8896/21051 [42:23<52:07,  3.89it/s]  "
     ]
    },
    {
     "name": "stdout",
     "output_type": "stream",
     "text": [
      "Saved features batch 88 to /mnt/data/CVPR2025/task1_data/images_features/features_batch_88.pt\n"
     ]
    },
    {
     "name": "stderr",
     "output_type": "stream",
     "text": [
      " 43%|████▎     | 8992/21051 [42:55<53:36,  3.75it/s]  "
     ]
    },
    {
     "name": "stdout",
     "output_type": "stream",
     "text": [
      "Saved features batch 89 to /mnt/data/CVPR2025/task1_data/images_features/features_batch_89.pt\n"
     ]
    },
    {
     "name": "stderr",
     "output_type": "stream",
     "text": [
      " 43%|████▎     | 9088/21051 [43:24<51:53,  3.84it/s]  "
     ]
    },
    {
     "name": "stdout",
     "output_type": "stream",
     "text": [
      "Saved features batch 90 to /mnt/data/CVPR2025/task1_data/images_features/features_batch_90.pt\n"
     ]
    },
    {
     "name": "stderr",
     "output_type": "stream",
     "text": [
      " 44%|████▎     | 9184/21051 [43:52<50:19,  3.93it/s]  "
     ]
    },
    {
     "name": "stdout",
     "output_type": "stream",
     "text": [
      "Saved features batch 91 to /mnt/data/CVPR2025/task1_data/images_features/features_batch_91.pt\n"
     ]
    },
    {
     "name": "stderr",
     "output_type": "stream",
     "text": [
      " 44%|████▍     | 9296/21051 [44:26<50:22,  3.89it/s]  "
     ]
    },
    {
     "name": "stdout",
     "output_type": "stream",
     "text": [
      "Saved features batch 92 to /mnt/data/CVPR2025/task1_data/images_features/features_batch_92.pt\n"
     ]
    },
    {
     "name": "stderr",
     "output_type": "stream",
     "text": [
      " 45%|████▍     | 9392/21051 [45:01<53:11,  3.65it/s]  "
     ]
    },
    {
     "name": "stdout",
     "output_type": "stream",
     "text": [
      "Saved features batch 93 to /mnt/data/CVPR2025/task1_data/images_features/features_batch_93.pt\n"
     ]
    },
    {
     "name": "stderr",
     "output_type": "stream",
     "text": [
      " 45%|████▌     | 9488/21051 [45:29<50:11,  3.84it/s]  "
     ]
    },
    {
     "name": "stdout",
     "output_type": "stream",
     "text": [
      "Saved features batch 94 to /mnt/data/CVPR2025/task1_data/images_features/features_batch_94.pt\n"
     ]
    },
    {
     "name": "stderr",
     "output_type": "stream",
     "text": [
      " 46%|████▌     | 9584/21051 [46:00<51:07,  3.74it/s]  "
     ]
    },
    {
     "name": "stdout",
     "output_type": "stream",
     "text": [
      "Saved features batch 95 to /mnt/data/CVPR2025/task1_data/images_features/features_batch_95.pt\n"
     ]
    },
    {
     "name": "stderr",
     "output_type": "stream",
     "text": [
      " 46%|████▌     | 9696/21051 [46:33<48:34,  3.90it/s]  "
     ]
    },
    {
     "name": "stdout",
     "output_type": "stream",
     "text": [
      "Saved features batch 96 to /mnt/data/CVPR2025/task1_data/images_features/features_batch_96.pt\n"
     ]
    },
    {
     "name": "stderr",
     "output_type": "stream",
     "text": [
      " 47%|████▋     | 9792/21051 [47:03<49:22,  3.80it/s]  "
     ]
    },
    {
     "name": "stdout",
     "output_type": "stream",
     "text": [
      "Saved features batch 97 to /mnt/data/CVPR2025/task1_data/images_features/features_batch_97.pt\n"
     ]
    },
    {
     "name": "stderr",
     "output_type": "stream",
     "text": [
      " 47%|████▋     | 9888/21051 [47:33<48:56,  3.80it/s]  "
     ]
    },
    {
     "name": "stdout",
     "output_type": "stream",
     "text": [
      "Saved features batch 98 to /mnt/data/CVPR2025/task1_data/images_features/features_batch_98.pt\n"
     ]
    },
    {
     "name": "stderr",
     "output_type": "stream",
     "text": [
      " 47%|████▋     | 9984/21051 [48:01<47:52,  3.85it/s]  "
     ]
    },
    {
     "name": "stdout",
     "output_type": "stream",
     "text": [
      "Saved features batch 99 to /mnt/data/CVPR2025/task1_data/images_features/features_batch_99.pt\n"
     ]
    },
    {
     "name": "stderr",
     "output_type": "stream",
     "text": [
      " 48%|████▊     | 10096/21051 [48:36<47:33,  3.84it/s]  "
     ]
    },
    {
     "name": "stdout",
     "output_type": "stream",
     "text": [
      "Saved features batch 100 to /mnt/data/CVPR2025/task1_data/images_features/features_batch_100.pt\n"
     ]
    },
    {
     "name": "stderr",
     "output_type": "stream",
     "text": [
      " 48%|████▊     | 10192/21051 [49:07<48:59,  3.69it/s]  "
     ]
    },
    {
     "name": "stdout",
     "output_type": "stream",
     "text": [
      "Saved features batch 101 to /mnt/data/CVPR2025/task1_data/images_features/features_batch_101.pt\n"
     ]
    },
    {
     "name": "stderr",
     "output_type": "stream",
     "text": [
      " 49%|████▉     | 10288/21051 [49:38<48:10,  3.72it/s]  "
     ]
    },
    {
     "name": "stdout",
     "output_type": "stream",
     "text": [
      "Saved features batch 102 to /mnt/data/CVPR2025/task1_data/images_features/features_batch_102.pt\n"
     ]
    },
    {
     "name": "stderr",
     "output_type": "stream",
     "text": [
      " 49%|████▉     | 10384/21051 [50:06<46:47,  3.80it/s]  "
     ]
    },
    {
     "name": "stdout",
     "output_type": "stream",
     "text": [
      "Saved features batch 103 to /mnt/data/CVPR2025/task1_data/images_features/features_batch_103.pt\n"
     ]
    },
    {
     "name": "stderr",
     "output_type": "stream",
     "text": [
      " 50%|████▉     | 10496/21051 [50:41<46:07,  3.81it/s]  "
     ]
    },
    {
     "name": "stdout",
     "output_type": "stream",
     "text": [
      "Saved features batch 104 to /mnt/data/CVPR2025/task1_data/images_features/features_batch_104.pt\n"
     ]
    },
    {
     "name": "stderr",
     "output_type": "stream",
     "text": [
      " 50%|█████     | 10592/21051 [51:13<47:25,  3.68it/s]  "
     ]
    },
    {
     "name": "stdout",
     "output_type": "stream",
     "text": [
      "Saved features batch 105 to /mnt/data/CVPR2025/task1_data/images_features/features_batch_105.pt\n"
     ]
    },
    {
     "name": "stderr",
     "output_type": "stream",
     "text": [
      " 51%|█████     | 10688/21051 [51:43<46:18,  3.73it/s]  "
     ]
    },
    {
     "name": "stdout",
     "output_type": "stream",
     "text": [
      "Saved features batch 106 to /mnt/data/CVPR2025/task1_data/images_features/features_batch_106.pt\n"
     ]
    },
    {
     "name": "stderr",
     "output_type": "stream",
     "text": [
      " 51%|█████     | 10784/21051 [52:13<45:46,  3.74it/s]  "
     ]
    },
    {
     "name": "stdout",
     "output_type": "stream",
     "text": [
      "Saved features batch 107 to /mnt/data/CVPR2025/task1_data/images_features/features_batch_107.pt\n"
     ]
    },
    {
     "name": "stderr",
     "output_type": "stream",
     "text": [
      " 52%|█████▏    | 10896/21051 [52:47<44:24,  3.81it/s]  "
     ]
    },
    {
     "name": "stdout",
     "output_type": "stream",
     "text": [
      "Saved features batch 108 to /mnt/data/CVPR2025/task1_data/images_features/features_batch_108.pt\n"
     ]
    },
    {
     "name": "stderr",
     "output_type": "stream",
     "text": [
      " 52%|█████▏    | 10992/21051 [53:19<45:31,  3.68it/s]  "
     ]
    },
    {
     "name": "stdout",
     "output_type": "stream",
     "text": [
      "Saved features batch 109 to /mnt/data/CVPR2025/task1_data/images_features/features_batch_109.pt\n"
     ]
    },
    {
     "name": "stderr",
     "output_type": "stream",
     "text": [
      " 53%|█████▎    | 11088/21051 [53:50<44:05,  3.77it/s]  "
     ]
    },
    {
     "name": "stdout",
     "output_type": "stream",
     "text": [
      "Saved features batch 110 to /mnt/data/CVPR2025/task1_data/images_features/features_batch_110.pt\n"
     ]
    },
    {
     "name": "stderr",
     "output_type": "stream",
     "text": [
      " 53%|█████▎    | 11184/21051 [54:18<42:29,  3.87it/s]  "
     ]
    },
    {
     "name": "stdout",
     "output_type": "stream",
     "text": [
      "Saved features batch 111 to /mnt/data/CVPR2025/task1_data/images_features/features_batch_111.pt\n"
     ]
    },
    {
     "name": "stderr",
     "output_type": "stream",
     "text": [
      " 54%|█████▎    | 11296/21051 [54:53<42:22,  3.84it/s]  "
     ]
    },
    {
     "name": "stdout",
     "output_type": "stream",
     "text": [
      "Saved features batch 112 to /mnt/data/CVPR2025/task1_data/images_features/features_batch_112.pt\n"
     ]
    },
    {
     "name": "stderr",
     "output_type": "stream",
     "text": [
      " 54%|█████▍    | 11392/21051 [55:24<42:25,  3.79it/s]  "
     ]
    },
    {
     "name": "stdout",
     "output_type": "stream",
     "text": [
      "Saved features batch 113 to /mnt/data/CVPR2025/task1_data/images_features/features_batch_113.pt\n"
     ]
    },
    {
     "name": "stderr",
     "output_type": "stream",
     "text": [
      " 55%|█████▍    | 11488/21051 [55:54<42:09,  3.78it/s]  "
     ]
    },
    {
     "name": "stdout",
     "output_type": "stream",
     "text": [
      "Saved features batch 114 to /mnt/data/CVPR2025/task1_data/images_features/features_batch_114.pt\n"
     ]
    },
    {
     "name": "stderr",
     "output_type": "stream",
     "text": [
      " 55%|█████▌    | 11584/21051 [56:23<41:11,  3.83it/s]"
     ]
    },
    {
     "name": "stdout",
     "output_type": "stream",
     "text": [
      "Saved features batch 115 to /mnt/data/CVPR2025/task1_data/images_features/features_batch_115.pt\n"
     ]
    },
    {
     "name": "stderr",
     "output_type": "stream",
     "text": [
      " 56%|█████▌    | 11696/21051 [56:57<40:29,  3.85it/s]  "
     ]
    },
    {
     "name": "stdout",
     "output_type": "stream",
     "text": [
      "Saved features batch 116 to /mnt/data/CVPR2025/task1_data/images_features/features_batch_116.pt\n"
     ]
    },
    {
     "name": "stderr",
     "output_type": "stream",
     "text": [
      " 56%|█████▌    | 11792/21051 [57:28<41:48,  3.69it/s]  "
     ]
    },
    {
     "name": "stdout",
     "output_type": "stream",
     "text": [
      "Saved features batch 117 to /mnt/data/CVPR2025/task1_data/images_features/features_batch_117.pt\n"
     ]
    },
    {
     "name": "stderr",
     "output_type": "stream",
     "text": [
      " 56%|█████▋    | 11888/21051 [57:59<41:03,  3.72it/s]  "
     ]
    },
    {
     "name": "stdout",
     "output_type": "stream",
     "text": [
      "Saved features batch 118 to /mnt/data/CVPR2025/task1_data/images_features/features_batch_118.pt\n"
     ]
    },
    {
     "name": "stderr",
     "output_type": "stream",
     "text": [
      " 57%|█████▋    | 11984/21051 [58:27<39:42,  3.81it/s]"
     ]
    },
    {
     "name": "stdout",
     "output_type": "stream",
     "text": [
      "Saved features batch 119 to /mnt/data/CVPR2025/task1_data/images_features/features_batch_119.pt\n"
     ]
    },
    {
     "name": "stderr",
     "output_type": "stream",
     "text": [
      " 57%|█████▋    | 12096/21051 [59:02<39:02,  3.82it/s]"
     ]
    },
    {
     "name": "stdout",
     "output_type": "stream",
     "text": [
      "Saved features batch 120 to /mnt/data/CVPR2025/task1_data/images_features/features_batch_120.pt\n"
     ]
    },
    {
     "name": "stderr",
     "output_type": "stream",
     "text": [
      " 58%|█████▊    | 12192/21051 [59:33<39:59,  3.69it/s]  "
     ]
    },
    {
     "name": "stdout",
     "output_type": "stream",
     "text": [
      "Saved features batch 121 to /mnt/data/CVPR2025/task1_data/images_features/features_batch_121.pt\n"
     ]
    },
    {
     "name": "stderr",
     "output_type": "stream",
     "text": [
      " 58%|█████▊    | 12288/21051 [1:00:03<39:02,  3.74it/s]"
     ]
    },
    {
     "name": "stdout",
     "output_type": "stream",
     "text": [
      "Saved features batch 122 to /mnt/data/CVPR2025/task1_data/images_features/features_batch_122.pt\n"
     ]
    },
    {
     "name": "stderr",
     "output_type": "stream",
     "text": [
      " 59%|█████▉    | 12384/21051 [1:00:32<37:45,  3.83it/s]"
     ]
    },
    {
     "name": "stdout",
     "output_type": "stream",
     "text": [
      "Saved features batch 123 to /mnt/data/CVPR2025/task1_data/images_features/features_batch_123.pt\n"
     ]
    },
    {
     "name": "stderr",
     "output_type": "stream",
     "text": [
      " 59%|█████▉    | 12496/21051 [1:01:07<37:31,  3.80it/s]"
     ]
    },
    {
     "name": "stdout",
     "output_type": "stream",
     "text": [
      "Saved features batch 124 to /mnt/data/CVPR2025/task1_data/images_features/features_batch_124.pt\n"
     ]
    },
    {
     "name": "stderr",
     "output_type": "stream",
     "text": [
      " 60%|█████▉    | 12592/21051 [1:01:38<38:18,  3.68it/s]"
     ]
    },
    {
     "name": "stdout",
     "output_type": "stream",
     "text": [
      "Saved features batch 125 to /mnt/data/CVPR2025/task1_data/images_features/features_batch_125.pt\n"
     ]
    },
    {
     "name": "stderr",
     "output_type": "stream",
     "text": [
      " 60%|██████    | 12688/21051 [1:02:08<37:22,  3.73it/s]"
     ]
    },
    {
     "name": "stdout",
     "output_type": "stream",
     "text": [
      "Saved features batch 126 to /mnt/data/CVPR2025/task1_data/images_features/features_batch_126.pt\n"
     ]
    },
    {
     "name": "stderr",
     "output_type": "stream",
     "text": [
      " 61%|██████    | 12784/21051 [1:02:38<36:51,  3.74it/s]"
     ]
    },
    {
     "name": "stdout",
     "output_type": "stream",
     "text": [
      "Saved features batch 127 to /mnt/data/CVPR2025/task1_data/images_features/features_batch_127.pt\n"
     ]
    },
    {
     "name": "stderr",
     "output_type": "stream",
     "text": [
      " 61%|██████▏   | 12896/21051 [1:03:12<35:24,  3.84it/s]"
     ]
    },
    {
     "name": "stdout",
     "output_type": "stream",
     "text": [
      "Saved features batch 128 to /mnt/data/CVPR2025/task1_data/images_features/features_batch_128.pt\n"
     ]
    },
    {
     "name": "stderr",
     "output_type": "stream",
     "text": [
      " 62%|██████▏   | 12992/21051 [1:03:43<36:10,  3.71it/s]"
     ]
    },
    {
     "name": "stdout",
     "output_type": "stream",
     "text": [
      "Saved features batch 129 to /mnt/data/CVPR2025/task1_data/images_features/features_batch_129.pt\n"
     ]
    },
    {
     "name": "stderr",
     "output_type": "stream",
     "text": [
      " 62%|██████▏   | 13088/21051 [1:04:11<34:54,  3.80it/s]"
     ]
    },
    {
     "name": "stdout",
     "output_type": "stream",
     "text": [
      "Saved features batch 130 to /mnt/data/CVPR2025/task1_data/images_features/features_batch_130.pt\n"
     ]
    },
    {
     "name": "stderr",
     "output_type": "stream",
     "text": [
      " 63%|██████▎   | 13184/21051 [1:04:41<35:10,  3.73it/s]"
     ]
    },
    {
     "name": "stdout",
     "output_type": "stream",
     "text": [
      "Saved features batch 131 to /mnt/data/CVPR2025/task1_data/images_features/features_batch_131.pt\n"
     ]
    },
    {
     "name": "stderr",
     "output_type": "stream",
     "text": [
      " 63%|██████▎   | 13296/21051 [1:05:15<33:59,  3.80it/s]"
     ]
    },
    {
     "name": "stdout",
     "output_type": "stream",
     "text": [
      "Saved features batch 132 to /mnt/data/CVPR2025/task1_data/images_features/features_batch_132.pt\n"
     ]
    },
    {
     "name": "stderr",
     "output_type": "stream",
     "text": [
      " 64%|██████▎   | 13392/21051 [1:05:44<34:11,  3.73it/s]"
     ]
    },
    {
     "name": "stdout",
     "output_type": "stream",
     "text": [
      "Saved features batch 133 to /mnt/data/CVPR2025/task1_data/images_features/features_batch_133.pt\n"
     ]
    },
    {
     "name": "stderr",
     "output_type": "stream",
     "text": [
      " 64%|██████▍   | 13488/21051 [1:06:13<33:16,  3.79it/s]"
     ]
    },
    {
     "name": "stdout",
     "output_type": "stream",
     "text": [
      "Saved features batch 134 to /mnt/data/CVPR2025/task1_data/images_features/features_batch_134.pt\n"
     ]
    },
    {
     "name": "stderr",
     "output_type": "stream",
     "text": [
      " 65%|██████▍   | 13584/21051 [1:06:43<33:16,  3.74it/s]"
     ]
    },
    {
     "name": "stdout",
     "output_type": "stream",
     "text": [
      "Saved features batch 135 to /mnt/data/CVPR2025/task1_data/images_features/features_batch_135.pt\n"
     ]
    },
    {
     "name": "stderr",
     "output_type": "stream",
     "text": [
      " 65%|██████▌   | 13696/21051 [1:07:17<31:52,  3.85it/s]"
     ]
    },
    {
     "name": "stdout",
     "output_type": "stream",
     "text": [
      "Saved features batch 136 to /mnt/data/CVPR2025/task1_data/images_features/features_batch_136.pt\n"
     ]
    },
    {
     "name": "stderr",
     "output_type": "stream",
     "text": [
      " 66%|██████▌   | 13792/21051 [1:07:46<31:31,  3.84it/s]"
     ]
    },
    {
     "name": "stdout",
     "output_type": "stream",
     "text": [
      "Saved features batch 137 to /mnt/data/CVPR2025/task1_data/images_features/features_batch_137.pt\n"
     ]
    },
    {
     "name": "stderr",
     "output_type": "stream",
     "text": [
      " 66%|██████▌   | 13888/21051 [1:08:17<31:45,  3.76it/s]"
     ]
    },
    {
     "name": "stdout",
     "output_type": "stream",
     "text": [
      "Saved features batch 138 to /mnt/data/CVPR2025/task1_data/images_features/features_batch_138.pt\n"
     ]
    },
    {
     "name": "stderr",
     "output_type": "stream",
     "text": [
      " 66%|██████▋   | 13984/21051 [1:08:46<31:00,  3.80it/s]"
     ]
    },
    {
     "name": "stdout",
     "output_type": "stream",
     "text": [
      "Saved features batch 139 to /mnt/data/CVPR2025/task1_data/images_features/features_batch_139.pt\n"
     ]
    },
    {
     "name": "stderr",
     "output_type": "stream",
     "text": [
      " 67%|██████▋   | 14096/21051 [1:09:19<30:12,  3.84it/s]"
     ]
    },
    {
     "name": "stdout",
     "output_type": "stream",
     "text": [
      "Saved features batch 140 to /mnt/data/CVPR2025/task1_data/images_features/features_batch_140.pt\n"
     ]
    },
    {
     "name": "stderr",
     "output_type": "stream",
     "text": [
      " 67%|██████▋   | 14192/21051 [1:09:52<31:20,  3.65it/s]"
     ]
    },
    {
     "name": "stdout",
     "output_type": "stream",
     "text": [
      "Saved features batch 141 to /mnt/data/CVPR2025/task1_data/images_features/features_batch_141.pt\n"
     ]
    },
    {
     "name": "stderr",
     "output_type": "stream",
     "text": [
      " 68%|██████▊   | 14288/21051 [1:10:21<29:56,  3.76it/s]"
     ]
    },
    {
     "name": "stdout",
     "output_type": "stream",
     "text": [
      "Saved features batch 142 to /mnt/data/CVPR2025/task1_data/images_features/features_batch_142.pt\n"
     ]
    },
    {
     "name": "stderr",
     "output_type": "stream",
     "text": [
      " 68%|██████▊   | 14384/21051 [1:10:51<30:11,  3.68it/s]"
     ]
    },
    {
     "name": "stdout",
     "output_type": "stream",
     "text": [
      "Saved features batch 143 to /mnt/data/CVPR2025/task1_data/images_features/features_batch_143.pt\n"
     ]
    },
    {
     "name": "stderr",
     "output_type": "stream",
     "text": [
      " 69%|██████▉   | 14496/21051 [1:11:24<28:28,  3.84it/s]"
     ]
    },
    {
     "name": "stdout",
     "output_type": "stream",
     "text": [
      "Saved features batch 144 to /mnt/data/CVPR2025/task1_data/images_features/features_batch_144.pt\n"
     ]
    },
    {
     "name": "stderr",
     "output_type": "stream",
     "text": [
      " 69%|██████▉   | 14592/21051 [1:11:54<28:42,  3.75it/s]"
     ]
    },
    {
     "name": "stdout",
     "output_type": "stream",
     "text": [
      "Saved features batch 145 to /mnt/data/CVPR2025/task1_data/images_features/features_batch_145.pt\n"
     ]
    },
    {
     "name": "stderr",
     "output_type": "stream",
     "text": [
      " 70%|██████▉   | 14688/21051 [1:12:24<28:29,  3.72it/s]"
     ]
    },
    {
     "name": "stdout",
     "output_type": "stream",
     "text": [
      "Saved features batch 146 to /mnt/data/CVPR2025/task1_data/images_features/features_batch_146.pt\n"
     ]
    },
    {
     "name": "stderr",
     "output_type": "stream",
     "text": [
      " 70%|███████   | 14784/21051 [1:12:53<27:32,  3.79it/s]"
     ]
    },
    {
     "name": "stdout",
     "output_type": "stream",
     "text": [
      "Saved features batch 147 to /mnt/data/CVPR2025/task1_data/images_features/features_batch_147.pt\n"
     ]
    },
    {
     "name": "stderr",
     "output_type": "stream",
     "text": [
      " 71%|███████   | 14896/21051 [1:13:27<26:52,  3.82it/s]"
     ]
    },
    {
     "name": "stdout",
     "output_type": "stream",
     "text": [
      "Saved features batch 148 to /mnt/data/CVPR2025/task1_data/images_features/features_batch_148.pt\n"
     ]
    },
    {
     "name": "stderr",
     "output_type": "stream",
     "text": [
      " 71%|███████   | 14992/21051 [1:13:58<27:22,  3.69it/s]"
     ]
    },
    {
     "name": "stdout",
     "output_type": "stream",
     "text": [
      "Saved features batch 149 to /mnt/data/CVPR2025/task1_data/images_features/features_batch_149.pt\n"
     ]
    },
    {
     "name": "stderr",
     "output_type": "stream",
     "text": [
      " 72%|███████▏  | 15088/21051 [1:14:27<26:08,  3.80it/s]"
     ]
    },
    {
     "name": "stdout",
     "output_type": "stream",
     "text": [
      "Saved features batch 150 to /mnt/data/CVPR2025/task1_data/images_features/features_batch_150.pt\n"
     ]
    },
    {
     "name": "stderr",
     "output_type": "stream",
     "text": [
      " 72%|███████▏  | 15184/21051 [1:14:57<26:15,  3.72it/s]"
     ]
    },
    {
     "name": "stdout",
     "output_type": "stream",
     "text": [
      "Saved features batch 151 to /mnt/data/CVPR2025/task1_data/images_features/features_batch_151.pt\n"
     ]
    },
    {
     "name": "stderr",
     "output_type": "stream",
     "text": [
      " 73%|███████▎  | 15296/21051 [1:15:31<25:07,  3.82it/s]"
     ]
    },
    {
     "name": "stdout",
     "output_type": "stream",
     "text": [
      "Saved features batch 152 to /mnt/data/CVPR2025/task1_data/images_features/features_batch_152.pt\n"
     ]
    },
    {
     "name": "stderr",
     "output_type": "stream",
     "text": [
      " 73%|███████▎  | 15392/21051 [1:16:01<25:17,  3.73it/s]"
     ]
    },
    {
     "name": "stdout",
     "output_type": "stream",
     "text": [
      "Saved features batch 153 to /mnt/data/CVPR2025/task1_data/images_features/features_batch_153.pt\n"
     ]
    },
    {
     "name": "stderr",
     "output_type": "stream",
     "text": [
      " 74%|███████▎  | 15488/21051 [1:16:30<24:30,  3.78it/s]"
     ]
    },
    {
     "name": "stdout",
     "output_type": "stream",
     "text": [
      "Saved features batch 154 to /mnt/data/CVPR2025/task1_data/images_features/features_batch_154.pt\n"
     ]
    },
    {
     "name": "stderr",
     "output_type": "stream",
     "text": [
      " 74%|███████▍  | 15584/21051 [1:17:00<23:47,  3.83it/s]"
     ]
    },
    {
     "name": "stdout",
     "output_type": "stream",
     "text": [
      "Saved features batch 155 to /mnt/data/CVPR2025/task1_data/images_features/features_batch_155.pt\n"
     ]
    },
    {
     "name": "stderr",
     "output_type": "stream",
     "text": [
      " 75%|███████▍  | 15696/21051 [1:17:33<23:04,  3.87it/s]"
     ]
    },
    {
     "name": "stdout",
     "output_type": "stream",
     "text": [
      "Saved features batch 156 to /mnt/data/CVPR2025/task1_data/images_features/features_batch_156.pt\n"
     ]
    },
    {
     "name": "stderr",
     "output_type": "stream",
     "text": [
      " 75%|███████▌  | 15792/21051 [1:18:03<23:25,  3.74it/s]"
     ]
    },
    {
     "name": "stdout",
     "output_type": "stream",
     "text": [
      "Saved features batch 157 to /mnt/data/CVPR2025/task1_data/images_features/features_batch_157.pt\n"
     ]
    },
    {
     "name": "stderr",
     "output_type": "stream",
     "text": [
      " 75%|███████▌  | 15888/21051 [1:18:32<22:45,  3.78it/s]"
     ]
    },
    {
     "name": "stdout",
     "output_type": "stream",
     "text": [
      "Saved features batch 158 to /mnt/data/CVPR2025/task1_data/images_features/features_batch_158.pt\n"
     ]
    },
    {
     "name": "stderr",
     "output_type": "stream",
     "text": [
      " 76%|███████▌  | 15984/21051 [1:19:02<22:28,  3.76it/s]"
     ]
    },
    {
     "name": "stdout",
     "output_type": "stream",
     "text": [
      "Saved features batch 159 to /mnt/data/CVPR2025/task1_data/images_features/features_batch_159.pt\n"
     ]
    },
    {
     "name": "stderr",
     "output_type": "stream",
     "text": [
      " 76%|███████▋  | 16096/21051 [1:19:35<21:29,  3.84it/s]"
     ]
    },
    {
     "name": "stdout",
     "output_type": "stream",
     "text": [
      "Saved features batch 160 to /mnt/data/CVPR2025/task1_data/images_features/features_batch_160.pt\n"
     ]
    },
    {
     "name": "stderr",
     "output_type": "stream",
     "text": [
      " 77%|███████▋  | 16192/21051 [1:20:04<21:36,  3.75it/s]"
     ]
    },
    {
     "name": "stdout",
     "output_type": "stream",
     "text": [
      "Saved features batch 161 to /mnt/data/CVPR2025/task1_data/images_features/features_batch_161.pt\n"
     ]
    },
    {
     "name": "stderr",
     "output_type": "stream",
     "text": [
      " 77%|███████▋  | 16288/21051 [1:20:33<21:04,  3.77it/s]"
     ]
    },
    {
     "name": "stdout",
     "output_type": "stream",
     "text": [
      "Saved features batch 162 to /mnt/data/CVPR2025/task1_data/images_features/features_batch_162.pt\n"
     ]
    },
    {
     "name": "stderr",
     "output_type": "stream",
     "text": [
      " 78%|███████▊  | 16384/21051 [1:21:02<20:29,  3.79it/s]"
     ]
    },
    {
     "name": "stdout",
     "output_type": "stream",
     "text": [
      "Saved features batch 163 to /mnt/data/CVPR2025/task1_data/images_features/features_batch_163.pt\n"
     ]
    },
    {
     "name": "stderr",
     "output_type": "stream",
     "text": [
      " 78%|███████▊  | 16496/21051 [1:21:35<19:42,  3.85it/s]"
     ]
    },
    {
     "name": "stdout",
     "output_type": "stream",
     "text": [
      "Saved features batch 164 to /mnt/data/CVPR2025/task1_data/images_features/features_batch_164.pt\n"
     ]
    },
    {
     "name": "stderr",
     "output_type": "stream",
     "text": [
      " 79%|███████▉  | 16592/21051 [1:22:05<19:54,  3.73it/s]"
     ]
    },
    {
     "name": "stdout",
     "output_type": "stream",
     "text": [
      "Saved features batch 165 to /mnt/data/CVPR2025/task1_data/images_features/features_batch_165.pt\n"
     ]
    },
    {
     "name": "stderr",
     "output_type": "stream",
     "text": [
      " 79%|███████▉  | 16688/21051 [1:22:34<19:10,  3.79it/s]"
     ]
    },
    {
     "name": "stdout",
     "output_type": "stream",
     "text": [
      "Saved features batch 166 to /mnt/data/CVPR2025/task1_data/images_features/features_batch_166.pt\n"
     ]
    },
    {
     "name": "stderr",
     "output_type": "stream",
     "text": [
      " 80%|███████▉  | 16784/21051 [1:23:04<18:58,  3.75it/s]"
     ]
    },
    {
     "name": "stdout",
     "output_type": "stream",
     "text": [
      "Saved features batch 167 to /mnt/data/CVPR2025/task1_data/images_features/features_batch_167.pt\n"
     ]
    },
    {
     "name": "stderr",
     "output_type": "stream",
     "text": [
      " 80%|████████  | 16896/21051 [1:23:37<18:01,  3.84it/s]"
     ]
    },
    {
     "name": "stdout",
     "output_type": "stream",
     "text": [
      "Saved features batch 168 to /mnt/data/CVPR2025/task1_data/images_features/features_batch_168.pt\n"
     ]
    },
    {
     "name": "stderr",
     "output_type": "stream",
     "text": [
      " 81%|████████  | 16992/21051 [1:24:07<18:00,  3.76it/s]"
     ]
    },
    {
     "name": "stdout",
     "output_type": "stream",
     "text": [
      "Saved features batch 169 to /mnt/data/CVPR2025/task1_data/images_features/features_batch_169.pt\n"
     ]
    },
    {
     "name": "stderr",
     "output_type": "stream",
     "text": [
      " 81%|████████  | 17088/21051 [1:24:36<17:33,  3.76it/s]"
     ]
    },
    {
     "name": "stdout",
     "output_type": "stream",
     "text": [
      "Saved features batch 170 to /mnt/data/CVPR2025/task1_data/images_features/features_batch_170.pt\n"
     ]
    },
    {
     "name": "stderr",
     "output_type": "stream",
     "text": [
      " 82%|████████▏ | 17184/21051 [1:25:05<16:59,  3.79it/s]"
     ]
    },
    {
     "name": "stdout",
     "output_type": "stream",
     "text": [
      "Saved features batch 171 to /mnt/data/CVPR2025/task1_data/images_features/features_batch_171.pt\n"
     ]
    },
    {
     "name": "stderr",
     "output_type": "stream",
     "text": [
      " 82%|████████▏ | 17296/21051 [1:25:38<16:25,  3.81it/s]"
     ]
    },
    {
     "name": "stdout",
     "output_type": "stream",
     "text": [
      "Saved features batch 172 to /mnt/data/CVPR2025/task1_data/images_features/features_batch_172.pt\n"
     ]
    },
    {
     "name": "stderr",
     "output_type": "stream",
     "text": [
      " 83%|████████▎ | 17392/21051 [1:26:09<16:24,  3.72it/s]"
     ]
    },
    {
     "name": "stdout",
     "output_type": "stream",
     "text": [
      "Saved features batch 173 to /mnt/data/CVPR2025/task1_data/images_features/features_batch_173.pt\n"
     ]
    },
    {
     "name": "stderr",
     "output_type": "stream",
     "text": [
      " 83%|████████▎ | 17488/21051 [1:26:38<15:54,  3.73it/s]"
     ]
    },
    {
     "name": "stdout",
     "output_type": "stream",
     "text": [
      "Saved features batch 174 to /mnt/data/CVPR2025/task1_data/images_features/features_batch_174.pt\n"
     ]
    },
    {
     "name": "stderr",
     "output_type": "stream",
     "text": [
      " 84%|████████▎ | 17584/21051 [1:27:08<15:24,  3.75it/s]"
     ]
    },
    {
     "name": "stdout",
     "output_type": "stream",
     "text": [
      "Saved features batch 175 to /mnt/data/CVPR2025/task1_data/images_features/features_batch_175.pt\n"
     ]
    },
    {
     "name": "stderr",
     "output_type": "stream",
     "text": [
      " 84%|████████▍ | 17696/21051 [1:27:42<14:35,  3.83it/s]"
     ]
    },
    {
     "name": "stdout",
     "output_type": "stream",
     "text": [
      "Saved features batch 176 to /mnt/data/CVPR2025/task1_data/images_features/features_batch_176.pt\n"
     ]
    },
    {
     "name": "stderr",
     "output_type": "stream",
     "text": [
      " 85%|████████▍ | 17792/21051 [1:28:12<14:33,  3.73it/s]"
     ]
    },
    {
     "name": "stdout",
     "output_type": "stream",
     "text": [
      "Saved features batch 177 to /mnt/data/CVPR2025/task1_data/images_features/features_batch_177.pt\n"
     ]
    },
    {
     "name": "stderr",
     "output_type": "stream",
     "text": [
      " 85%|████████▍ | 17888/21051 [1:28:43<14:15,  3.70it/s]"
     ]
    },
    {
     "name": "stdout",
     "output_type": "stream",
     "text": [
      "Saved features batch 178 to /mnt/data/CVPR2025/task1_data/images_features/features_batch_178.pt\n"
     ]
    },
    {
     "name": "stderr",
     "output_type": "stream",
     "text": [
      " 85%|████████▌ | 17984/21051 [1:29:14<14:02,  3.64it/s]"
     ]
    },
    {
     "name": "stdout",
     "output_type": "stream",
     "text": [
      "Saved features batch 179 to /mnt/data/CVPR2025/task1_data/images_features/features_batch_179.pt\n"
     ]
    },
    {
     "name": "stderr",
     "output_type": "stream",
     "text": [
      " 86%|████████▌ | 18096/21051 [1:29:48<13:00,  3.79it/s]"
     ]
    },
    {
     "name": "stdout",
     "output_type": "stream",
     "text": [
      "Saved features batch 180 to /mnt/data/CVPR2025/task1_data/images_features/features_batch_180.pt\n"
     ]
    },
    {
     "name": "stderr",
     "output_type": "stream",
     "text": [
      " 86%|████████▋ | 18192/21051 [1:30:20<13:10,  3.62it/s]"
     ]
    },
    {
     "name": "stdout",
     "output_type": "stream",
     "text": [
      "Saved features batch 181 to /mnt/data/CVPR2025/task1_data/images_features/features_batch_181.pt\n"
     ]
    },
    {
     "name": "stderr",
     "output_type": "stream",
     "text": [
      " 87%|████████▋ | 18288/21051 [1:30:51<12:37,  3.65it/s]"
     ]
    },
    {
     "name": "stdout",
     "output_type": "stream",
     "text": [
      "Saved features batch 182 to /mnt/data/CVPR2025/task1_data/images_features/features_batch_182.pt\n"
     ]
    },
    {
     "name": "stderr",
     "output_type": "stream",
     "text": [
      " 87%|████████▋ | 18384/21051 [1:31:20<11:55,  3.73it/s]"
     ]
    },
    {
     "name": "stdout",
     "output_type": "stream",
     "text": [
      "Saved features batch 183 to /mnt/data/CVPR2025/task1_data/images_features/features_batch_183.pt\n"
     ]
    },
    {
     "name": "stderr",
     "output_type": "stream",
     "text": [
      " 88%|████████▊ | 18496/21051 [1:31:54<11:14,  3.79it/s]"
     ]
    },
    {
     "name": "stdout",
     "output_type": "stream",
     "text": [
      "Saved features batch 184 to /mnt/data/CVPR2025/task1_data/images_features/features_batch_184.pt\n"
     ]
    },
    {
     "name": "stderr",
     "output_type": "stream",
     "text": [
      " 88%|████████▊ | 18592/21051 [1:32:26<12:03,  3.40it/s]"
     ]
    },
    {
     "name": "stdout",
     "output_type": "stream",
     "text": [
      "Saved features batch 185 to /mnt/data/CVPR2025/task1_data/images_features/features_batch_185.pt\n"
     ]
    },
    {
     "name": "stderr",
     "output_type": "stream",
     "text": [
      " 89%|████████▉ | 18688/21051 [1:33:11<13:13,  2.98it/s]"
     ]
    },
    {
     "name": "stdout",
     "output_type": "stream",
     "text": [
      "Saved features batch 186 to /mnt/data/CVPR2025/task1_data/images_features/features_batch_186.pt\n"
     ]
    },
    {
     "name": "stderr",
     "output_type": "stream",
     "text": [
      " 89%|████████▉ | 18784/21051 [1:34:05<13:14,  2.85it/s]"
     ]
    },
    {
     "name": "stdout",
     "output_type": "stream",
     "text": [
      "Saved features batch 187 to /mnt/data/CVPR2025/task1_data/images_features/features_batch_187.pt\n"
     ]
    },
    {
     "name": "stderr",
     "output_type": "stream",
     "text": [
      " 90%|████████▉ | 18896/21051 [1:34:36<09:00,  3.99it/s]"
     ]
    },
    {
     "name": "stdout",
     "output_type": "stream",
     "text": [
      "Saved features batch 188 to /mnt/data/CVPR2025/task1_data/images_features/features_batch_188.pt\n"
     ]
    },
    {
     "name": "stderr",
     "output_type": "stream",
     "text": [
      " 90%|█████████ | 18992/21051 [1:35:04<08:34,  4.00it/s]"
     ]
    },
    {
     "name": "stdout",
     "output_type": "stream",
     "text": [
      "Saved features batch 189 to /mnt/data/CVPR2025/task1_data/images_features/features_batch_189.pt\n"
     ]
    },
    {
     "name": "stderr",
     "output_type": "stream",
     "text": [
      " 91%|█████████ | 19088/21051 [1:35:31<08:02,  4.07it/s]"
     ]
    },
    {
     "name": "stdout",
     "output_type": "stream",
     "text": [
      "Saved features batch 190 to /mnt/data/CVPR2025/task1_data/images_features/features_batch_190.pt\n"
     ]
    },
    {
     "name": "stderr",
     "output_type": "stream",
     "text": [
      " 91%|█████████ | 19184/21051 [1:35:58<07:38,  4.08it/s]"
     ]
    },
    {
     "name": "stdout",
     "output_type": "stream",
     "text": [
      "Saved features batch 191 to /mnt/data/CVPR2025/task1_data/images_features/features_batch_191.pt\n"
     ]
    },
    {
     "name": "stderr",
     "output_type": "stream",
     "text": [
      " 92%|█████████▏| 19296/21051 [1:36:28<07:00,  4.17it/s]"
     ]
    },
    {
     "name": "stdout",
     "output_type": "stream",
     "text": [
      "Saved features batch 192 to /mnt/data/CVPR2025/task1_data/images_features/features_batch_192.pt\n"
     ]
    },
    {
     "name": "stderr",
     "output_type": "stream",
     "text": [
      " 92%|█████████▏| 19392/21051 [1:36:56<06:51,  4.03it/s]"
     ]
    },
    {
     "name": "stdout",
     "output_type": "stream",
     "text": [
      "Saved features batch 193 to /mnt/data/CVPR2025/task1_data/images_features/features_batch_193.pt\n"
     ]
    },
    {
     "name": "stderr",
     "output_type": "stream",
     "text": [
      " 93%|█████████▎| 19488/21051 [1:37:23<06:27,  4.03it/s]"
     ]
    },
    {
     "name": "stdout",
     "output_type": "stream",
     "text": [
      "Saved features batch 194 to /mnt/data/CVPR2025/task1_data/images_features/features_batch_194.pt\n"
     ]
    },
    {
     "name": "stderr",
     "output_type": "stream",
     "text": [
      " 93%|█████████▎| 19584/21051 [1:37:50<06:05,  4.02it/s]"
     ]
    },
    {
     "name": "stdout",
     "output_type": "stream",
     "text": [
      "Saved features batch 195 to /mnt/data/CVPR2025/task1_data/images_features/features_batch_195.pt\n"
     ]
    },
    {
     "name": "stderr",
     "output_type": "stream",
     "text": [
      " 94%|█████████▎| 19696/21051 [1:38:21<05:32,  4.08it/s]"
     ]
    },
    {
     "name": "stdout",
     "output_type": "stream",
     "text": [
      "Saved features batch 196 to /mnt/data/CVPR2025/task1_data/images_features/features_batch_196.pt\n"
     ]
    },
    {
     "name": "stderr",
     "output_type": "stream",
     "text": [
      " 94%|█████████▍| 19792/21051 [1:38:50<05:19,  3.94it/s]"
     ]
    },
    {
     "name": "stdout",
     "output_type": "stream",
     "text": [
      "Saved features batch 197 to /mnt/data/CVPR2025/task1_data/images_features/features_batch_197.pt\n"
     ]
    },
    {
     "name": "stderr",
     "output_type": "stream",
     "text": [
      " 94%|█████████▍| 19888/21051 [1:39:17<04:53,  3.96it/s]"
     ]
    },
    {
     "name": "stdout",
     "output_type": "stream",
     "text": [
      "Saved features batch 198 to /mnt/data/CVPR2025/task1_data/images_features/features_batch_198.pt\n"
     ]
    },
    {
     "name": "stderr",
     "output_type": "stream",
     "text": [
      " 95%|█████████▍| 19984/21051 [1:39:45<04:29,  3.96it/s]"
     ]
    },
    {
     "name": "stdout",
     "output_type": "stream",
     "text": [
      "Saved features batch 199 to /mnt/data/CVPR2025/task1_data/images_features/features_batch_199.pt\n"
     ]
    },
    {
     "name": "stderr",
     "output_type": "stream",
     "text": [
      " 95%|█████████▌| 20096/21051 [1:40:16<03:54,  4.07it/s]"
     ]
    },
    {
     "name": "stdout",
     "output_type": "stream",
     "text": [
      "Saved features batch 200 to /mnt/data/CVPR2025/task1_data/images_features/features_batch_200.pt\n"
     ]
    },
    {
     "name": "stderr",
     "output_type": "stream",
     "text": [
      " 96%|█████████▌| 20192/21051 [1:40:44<03:38,  3.94it/s]"
     ]
    },
    {
     "name": "stdout",
     "output_type": "stream",
     "text": [
      "Saved features batch 201 to /mnt/data/CVPR2025/task1_data/images_features/features_batch_201.pt\n"
     ]
    },
    {
     "name": "stderr",
     "output_type": "stream",
     "text": [
      " 96%|█████████▋| 20288/21051 [1:41:11<03:12,  3.97it/s]"
     ]
    },
    {
     "name": "stdout",
     "output_type": "stream",
     "text": [
      "Saved features batch 202 to /mnt/data/CVPR2025/task1_data/images_features/features_batch_202.pt\n"
     ]
    },
    {
     "name": "stderr",
     "output_type": "stream",
     "text": [
      " 97%|█████████▋| 20384/21051 [1:41:39<02:47,  3.98it/s]"
     ]
    },
    {
     "name": "stdout",
     "output_type": "stream",
     "text": [
      "Saved features batch 203 to /mnt/data/CVPR2025/task1_data/images_features/features_batch_203.pt\n"
     ]
    },
    {
     "name": "stderr",
     "output_type": "stream",
     "text": [
      " 97%|█████████▋| 20496/21051 [1:42:10<02:16,  4.07it/s]"
     ]
    },
    {
     "name": "stdout",
     "output_type": "stream",
     "text": [
      "Saved features batch 204 to /mnt/data/CVPR2025/task1_data/images_features/features_batch_204.pt\n"
     ]
    },
    {
     "name": "stderr",
     "output_type": "stream",
     "text": [
      " 98%|█████████▊| 20592/21051 [1:42:38<01:56,  3.95it/s]"
     ]
    },
    {
     "name": "stdout",
     "output_type": "stream",
     "text": [
      "Saved features batch 205 to /mnt/data/CVPR2025/task1_data/images_features/features_batch_205.pt\n"
     ]
    },
    {
     "name": "stderr",
     "output_type": "stream",
     "text": [
      " 98%|█████████▊| 20688/21051 [1:43:05<01:31,  3.97it/s]"
     ]
    },
    {
     "name": "stdout",
     "output_type": "stream",
     "text": [
      "Saved features batch 206 to /mnt/data/CVPR2025/task1_data/images_features/features_batch_206.pt\n"
     ]
    },
    {
     "name": "stderr",
     "output_type": "stream",
     "text": [
      " 99%|█████████▊| 20784/21051 [1:43:32<01:07,  3.97it/s]"
     ]
    },
    {
     "name": "stdout",
     "output_type": "stream",
     "text": [
      "Saved features batch 207 to /mnt/data/CVPR2025/task1_data/images_features/features_batch_207.pt\n"
     ]
    },
    {
     "name": "stderr",
     "output_type": "stream",
     "text": [
      " 99%|█████████▉| 20896/21051 [1:44:04<00:38,  4.07it/s]"
     ]
    },
    {
     "name": "stdout",
     "output_type": "stream",
     "text": [
      "Saved features batch 208 to /mnt/data/CVPR2025/task1_data/images_features/features_batch_208.pt\n"
     ]
    },
    {
     "name": "stderr",
     "output_type": "stream",
     "text": [
      "100%|█████████▉| 20992/21051 [1:44:32<00:14,  3.94it/s]"
     ]
    },
    {
     "name": "stdout",
     "output_type": "stream",
     "text": [
      "Saved features batch 209 to /mnt/data/CVPR2025/task1_data/images_features/features_batch_209.pt\n"
     ]
    },
    {
     "name": "stderr",
     "output_type": "stream",
     "text": [
      "100%|█████████▉| 21040/21051 [1:44:48<00:03,  3.48it/s]"
     ]
    },
    {
     "name": "stdout",
     "output_type": "stream",
     "text": [
      "Saved features batch 210 to /mnt/data/CVPR2025/task1_data/images_features/features_batch_210.pt\n"
     ]
    },
    {
     "name": "stderr",
     "output_type": "stream",
     "text": [
      "100%|██████████| 21051/21051 [1:44:53<00:00,  3.34it/s]"
     ]
    },
    {
     "name": "stdout",
     "output_type": "stream",
     "text": [
      "处理完成! 总共处理了 21051 张图像，保存了 211 个批次\n"
     ]
    },
    {
     "name": "stderr",
     "output_type": "stream",
     "text": [
      "\n"
     ]
    }
   ],
   "source": [
    "import numpy as np\n",
    "import torch\n",
    "from tqdm import tqdm\n",
    "from concurrent.futures import ThreadPoolExecutor\n",
    "from torch.utils.data import Dataset, DataLoader\n",
    "import threading\n",
    "from queue import Queue\n",
    "import gc\n",
    "import h5py\n",
    "\n",
    "# 自定义数据集\n",
    "class ImageDataset(Dataset):\n",
    "    def __init__(self, image_paths, processor):\n",
    "        self.image_paths = image_paths\n",
    "        self.processor = processor\n",
    "    \n",
    "    def __len__(self):\n",
    "        return len(self.image_paths)\n",
    "    \n",
    "    def __getitem__(self, idx):\n",
    "        # 读取图片\n",
    "        image = Image.open(self.image_paths[idx])\n",
    "        # 处理图片\n",
    "        inputs = self.processor(images=[image], return_tensors=\"pt\")\n",
    "        # 释放图片内存\n",
    "        image.close()\n",
    "        return {k: v.squeeze(0) for k, v in inputs.items()}\n",
    "\n",
    "# 数据预加载器\n",
    "class DataPrefetcher:\n",
    "    def __init__(self, loader):\n",
    "        self.loader = iter(loader)\n",
    "        self.stream = torch.cuda.Stream()\n",
    "        self.preload()\n",
    "        \n",
    "    def preload(self):\n",
    "        try:\n",
    "            self.next_inputs = next(self.loader)\n",
    "        except StopIteration:\n",
    "            self.next_inputs = None\n",
    "            return\n",
    "        \n",
    "        with torch.cuda.stream(self.stream):\n",
    "            for k in self.next_inputs:\n",
    "                # aspect_ratio_ids 保持为整数类型，其他转为 bfloat16\n",
    "                if k == 'aspect_ratio_ids':\n",
    "                    self.next_inputs[k] = self.next_inputs[k].cuda(non_blocking=True)\n",
    "                else:\n",
    "                    self.next_inputs[k] = self.next_inputs[k].cuda(non_blocking=True).bfloat16()\n",
    "    \n",
    "    def next(self):\n",
    "        torch.cuda.current_stream().wait_stream(self.stream)\n",
    "        inputs = self.next_inputs\n",
    "        self.preload()\n",
    "        return inputs\n",
    "    \n",
    "def process_images(model, projector, image_paths, save_dir, batch_size=8, num_workers=4, save_interval=1000):\n",
    "    \"\"\"\n",
    "    处理图像并定期保存特征\n",
    "    \n",
    "    Args:\n",
    "        model: 视觉模型\n",
    "        projector: 降维投影器\n",
    "        image_paths: 图像路径列表\n",
    "        save_dir: 特征保存目录\n",
    "        batch_size: 批次大小\n",
    "        num_workers: 工作进程数\n",
    "        save_interval: 多少张图像保存一次\n",
    "    \"\"\"\n",
    "    # 确保模型和projector在GPU上且为bf16\n",
    "    model = model.cuda().bfloat16().eval()\n",
    "    projector = projector.cuda().bfloat16().eval()\n",
    "    \n",
    "    # 创建保存目录\n",
    "    os.makedirs(save_dir, exist_ok=True)\n",
    "    \n",
    "    # 预热模型\n",
    "    with torch.no_grad():\n",
    "        dummy_inputs = processor(images=[Image.open(image_paths[0])], return_tensors=\"pt\")\n",
    "        dummy_input = {}\n",
    "        for k, v in dummy_inputs.items():\n",
    "            if k == 'aspect_ratio_ids':\n",
    "                dummy_input[k] = v.cuda()\n",
    "            else:\n",
    "                dummy_input[k] = v.cuda().bfloat16()\n",
    "        model(**dummy_input)\n",
    "    \n",
    "    # 创建数据集和数据加载器\n",
    "    dataset = ImageDataset(image_paths, processor)\n",
    "    loader = DataLoader(\n",
    "        dataset,\n",
    "        batch_size=batch_size,\n",
    "        num_workers=num_workers,\n",
    "        pin_memory=True,\n",
    "        prefetch_factor=2\n",
    "    )\n",
    "    \n",
    "    # 初始化特征列表和计数器\n",
    "    all_image_features = []\n",
    "    processed_count = 0\n",
    "    current_batch = 0\n",
    "    \n",
    "    # 创建数据预加载器\n",
    "    prefetcher = DataPrefetcher(loader)\n",
    "    inputs = prefetcher.next()\n",
    "    \n",
    "    def save_features(features_tensor, image_paths_batch, batch_num):\n",
    "        \"\"\"保存特征到pt文件\"\"\"\n",
    "        # 创建保存字典,包含特征和对应的图像路径\n",
    "        save_dict = {\n",
    "            'features': features_tensor,  # 保持bf16格式\n",
    "            'image_paths': image_paths_batch\n",
    "        }\n",
    "        save_path = os.path.join(save_dir, f'features_batch_{batch_num}.pt')\n",
    "        torch.save(save_dict, save_path)\n",
    "        print(f\"Saved features batch {batch_num} to {save_path}\")\n",
    "\n",
    "    # 主处理循环\n",
    "    with torch.no_grad():\n",
    "        with tqdm(total=len(image_paths)) as pbar:\n",
    "            current_batch_paths = []\n",
    "            \n",
    "            while inputs is not None:\n",
    "                # 记录当前批次的图像路径\n",
    "                batch_size_actual = len(next(iter(inputs.values())))\n",
    "                current_batch_paths.extend(image_paths[processed_count:processed_count + batch_size_actual])\n",
    "                \n",
    "                # 模型推理\n",
    "                output = model(**inputs)\n",
    "                \n",
    "                # 使用projector降维并保持在GPU上的bf16格式\n",
    "                features = output[0]  # 保持在GPU上\n",
    "                features = projector(features).reshape(-1, features.shape[-3], features.shape[-2], 4096)\n",
    "                \n",
    "                # 直接添加tensor而不转换为numpy\n",
    "                all_image_features.append(features.cpu())  # 只移到CPU,保持bf16格式\n",
    "                processed_count += batch_size_actual\n",
    "\n",
    "                # 获取下一批数据\n",
    "                next_inputs = prefetcher.next()\n",
    "                \n",
    "                # 当需要保存时\n",
    "                if processed_count >= (current_batch + 1) * save_interval or next_inputs is None:\n",
    "                    # 合并当前批次的特征\n",
    "                    current_features = torch.cat(all_image_features, dim=0)\n",
    "                    \n",
    "                    # 保存特征和对应的图像路径\n",
    "                    save_features(current_features, current_batch_paths, current_batch)\n",
    "                    \n",
    "                    # 清空列表，准备下一批次\n",
    "                    all_image_features = []\n",
    "                    current_batch_paths = []\n",
    "                    current_batch += 1\n",
    "                    \n",
    "                    # 清理内存\n",
    "                    torch.cuda.empty_cache()\n",
    "                    gc.collect()\n",
    "                \n",
    "                # 更新进度条\n",
    "                pbar.update(batch_size_actual)\n",
    "                \n",
    "                # 更新inputs为下一批数据\n",
    "                inputs = next_inputs\n",
    "    \n",
    "    print(f\"处理完成! 总共处理了 {processed_count} 张图像，保存了 {current_batch} 个批次\")\n",
    "    return processed_count\n",
    "\n",
    "\n",
    "# 使用示例\n",
    "save_dir = \"/mnt/data/CVPR2025/task1_data/images_features\"  # 指定保存特征的目录\n",
    "processed_count = process_images(\n",
    "    model=model,\n",
    "    projector=projector,\n",
    "    image_paths=all_image_paths,\n",
    "    save_dir=save_dir,\n",
    "    batch_size=16,\n",
    "    num_workers=16,\n",
    "    save_interval=100\n",
    ")\n",
    "\n",
    "# 相应的加载函数也需要修改\n",
    "def load_features(save_dir, batch_num):\n",
    "    \"\"\"加载指定批次的特征\"\"\"\n",
    "    file_path = os.path.join(save_dir, f'features_batch_{batch_num}.pt')\n",
    "    data_dict = torch.load(file_path)\n",
    "    return data_dict['features'], data_dict['image_paths']"
   ]
  },
  {
   "cell_type": "code",
   "execution_count": 14,
   "metadata": {},
   "outputs": [
    {
     "name": "stdout",
     "output_type": "stream",
     "text": [
      "数组形状: (100, 4, 1601, 7680)\n",
      "数据类型: float32\n",
      "内存占用: 18761.72 MB (18.32 GB)\n",
      "元素个数: 4,918,272,000\n"
     ]
    }
   ],
   "source": [
    "def get_size_in_mb(array):\n",
    "    \"\"\"计算numpy数组的内存占用(MB)\"\"\"\n",
    "    bytes_size = array.nbytes\n",
    "    mb_size = bytes_size / (1024 * 1024)  # 转换为MB\n",
    "    return mb_size\n",
    "\n",
    "def get_size_info(array):\n",
    "    \"\"\"获取数组的详细信息\"\"\"\n",
    "    shape = array.shape\n",
    "    dtype = array.dtype\n",
    "    size_mb = get_size_in_mb(array)\n",
    "    size_gb = size_mb / 1024  # 转换为GB\n",
    "    \n",
    "    print(f\"数组形状: {shape}\")\n",
    "    print(f\"数据类型: {dtype}\")\n",
    "    print(f\"内存占用: {size_mb:.2f} MB ({size_gb:.2f} GB)\")\n",
    "    print(f\"元素个数: {array.size:,}\")\n",
    "    \n",
    "# 计算all_image_features的大小\n",
    "get_size_info(all_image_features)"
   ]
  },
  {
   "cell_type": "code",
   "execution_count": 8,
   "metadata": {},
   "outputs": [
    {
     "name": "stdout",
     "output_type": "stream",
     "text": [
      "(16, 1, 4, 1601, 7680)\n",
      "(16, 1, 4, 1601, 7680)\n",
      "(16, 1, 4, 1601, 7680)\n",
      "(16, 1, 4, 1601, 7680)\n",
      "(16, 1, 4, 1601, 7680)\n",
      "(16, 1, 4, 1601, 7680)\n",
      "(4, 1, 4, 1601, 7680)\n"
     ]
    }
   ],
   "source": [
    "for x in all_image_features:\n",
    "    print(x.shape)"
   ]
  },
  {
   "cell_type": "code",
   "execution_count": null,
   "metadata": {},
   "outputs": [],
   "source": []
  }
 ],
 "metadata": {
  "kernelspec": {
   "display_name": "Python 3",
   "language": "python",
   "name": "python3"
  },
  "language_info": {
   "codemirror_mode": {
    "name": "ipython",
    "version": 3
   },
   "file_extension": ".py",
   "mimetype": "text/x-python",
   "name": "python",
   "nbconvert_exporter": "python",
   "pygments_lexer": "ipython3",
   "version": "3.9.20"
  }
 },
 "nbformat": 4,
 "nbformat_minor": 2
}
